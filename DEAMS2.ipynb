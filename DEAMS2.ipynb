{
  "nbformat": 4,
  "nbformat_minor": 0,
  "metadata": {
    "colab": {
      "name": "DEAMS2.ipynb",
      "provenance": [],
      "collapsed_sections": [],
      "authorship_tag": "ABX9TyMq8c+GvDQUwolHT05V2MqX",
      "include_colab_link": true
    },
    "kernelspec": {
      "name": "python3",
      "display_name": "Python 3"
    },
    "language_info": {
      "name": "python"
    },
    "accelerator": "GPU"
  },
  "cells": [
    {
      "cell_type": "markdown",
      "metadata": {
        "id": "view-in-github",
        "colab_type": "text"
      },
      "source": [
        "<a href=\"https://colab.research.google.com/github/cedalexandre/Few-Shot-Patch-Based-Training/blob/master/DEAMS2.ipynb\" target=\"_parent\"><img src=\"https://colab.research.google.com/assets/colab-badge.svg\" alt=\"Open In Colab\"/></a>"
      ]
    },
    {
      "cell_type": "code",
      "metadata": {
        "colab": {
          "base_uri": "https://localhost:8080/"
        },
        "id": "M0mr1EINlUVy",
        "outputId": "0b3ec7f8-e567-4245-e513-db61ff3a3dd9"
      },
      "source": [
        "###### INITIALISATION #####\n",
        "\n",
        "resume = False\n",
        "\n",
        "import subprocess\n",
        "CUDA_version = [s for s in subprocess.check_output([\"nvcc\", \"--version\"]).decode(\"UTF-8\").split(\", \") if s.startswith(\"release\")][0].split(\" \")[-1]\n",
        "print(\"CUDA version:\", CUDA_version)\n",
        "\n",
        "if CUDA_version == \"10.0\":\n",
        "    torch_version_suffix = \"+cu100\"\n",
        "elif CUDA_version == \"10.1\":\n",
        "    torch_version_suffix = \"+cu101\"\n",
        "elif CUDA_version == \"10.2\":\n",
        "    torch_version_suffix = \"\"\n",
        "else:\n",
        "    torch_version_suffix = \"+cu110\"\n",
        "\n",
        "!pip install torch==1.7.1{torch_version_suffix} torchvision==0.8.2{torch_version_suffix} -f https://download.pytorch.org/whl/torch_stable.html ftfy regex\n",
        "\n",
        "try: \n",
        "  !pip3 install googletrans==3.1.0a0\n",
        "  from googletrans import Translator, constants\n",
        "  translator = Translator()\n",
        "except: pass\n",
        "!pip install ftfy==5.8\n",
        "\n",
        "!apt-get -qq install ffmpeg\n",
        "from google.colab import drive\n",
        "drive.mount('/G', force_remount=True)\n",
        "gdir = !ls /G/\n",
        "gdir = '/G/%s/' % str(gdir[0])\n",
        "%cd $gdir\n",
        "work_dir = 'illustra'\n",
        "work_dir = gdir + work_dir + '/'\n",
        "import os\n",
        "os.makedirs(work_dir, exist_ok=True)\n",
        "%cd $work_dir\n",
        "\n",
        "import os\n",
        "import io\n",
        "import time\n",
        "import math\n",
        "# from math import exp\n",
        "import random\n",
        "import imageio\n",
        "import numpy as np\n",
        "import PIL\n",
        "# from skimage import exposure\n",
        "from base64 import b64encode\n",
        "import shutil\n",
        "import moviepy, moviepy.editor\n",
        "\n",
        "import torch\n",
        "import torch.nn as nn\n",
        "import torch.nn.functional as F\n",
        "import torchvision\n",
        "from torch.autograd import Variable\n",
        "\n",
        "from IPython.display import HTML, Image, display, clear_output\n",
        "from IPython.core.interactiveshell import InteractiveShell\n",
        "InteractiveShell.ast_node_interactivity = \"all\"\n",
        "import ipywidgets as ipy\n",
        "# import glob\n",
        "from google.colab import output, files\n",
        "\n",
        "import warnings\n",
        "warnings.filterwarnings(\"ignore\")\n",
        "\n",
        "!pip install git+https://github.com/openai/CLIP.git\n",
        "import clip\n",
        "!pip install sentence_transformers\n",
        "from sentence_transformers import SentenceTransformer\n",
        "!pip install git+https://github.com/Po-Hsun-Su/pytorch-ssim\n",
        "import pytorch_ssim as ssim\n",
        "\n",
        "%cd /content\n",
        "!rm -rf aphantasia\n",
        "#!git clone https://github.com/eps696/aphantasia\n",
        "! git clone https://github.com/cedalexandre/aphantasia\n",
        "%cd aphantasia/\n",
        "from clip_fft import to_valid_rgb, fft_image, slice_imgs, checkout\n",
        "from utils import pad_up_to, basename, file_list, img_list, img_read\n",
        "from progress_bar import ProgressIPy as ProgressBar\n",
        "\n",
        "clear_output()\n",
        "\n",
        "if resume:\n",
        "  resumed = files.upload()\n",
        "  params_pt = list(resumed.values())[0]\n",
        "  params_pt = torch.load(io.BytesIO(params_pt))\n",
        "\n",
        "def read_pt(file):\n",
        "  return torch.load(file).cuda()\n",
        "\n",
        "def ema(base, next, step):\n",
        "    scale_ma = 1. / (step + 1)\n",
        "    return next * scale_ma + base * (1.- scale_ma)\n",
        "\n",
        "def save_img(img, fname=None):\n",
        "  img = np.array(img)[:,:,:]\n",
        "  img = np.transpose(img, (1,2,0))  \n",
        "  img = np.clip(img*255, 0, 255).astype(np.uint8)\n",
        "  if fname is not None:\n",
        "    imageio.imsave(fname, np.array(img))\n",
        "    imageio.imsave('result.jpg', np.array(img))\n",
        "\n",
        "def makevid(seq_dir, size=None):\n",
        "  # out_sequence = seq_dir + '/%05d.jpg'\n",
        "  out_video = seq_dir + '.mp4'\n",
        "  # !ffmpeg -y -v quiet -i $out_sequence $out_video\n",
        "  moviepy.editor.ImageSequenceClip(img_list(seq_dir), fps=25).write_videofile(out_video, verbose=False) # , ffmpeg_params=ffmpeg_params, logger=None\n",
        "  data_url = \"data:video/mp4;base64,\" + b64encode(open(out_video,'rb').read()).decode()\n",
        "  wh = '' if size is None else 'width=%d height=%d' % (size, size)\n",
        "  return \"\"\"<video %s controls><source src=\"%s\" type=\"video/mp4\"></video>\"\"\" % (wh, data_url)\n",
        "\n",
        "!nvidia-smi -L\n",
        "print('\\nDone!')"
      ],
      "execution_count": 1,
      "outputs": [
        {
          "output_type": "stream",
          "text": [
            "GPU 0: Tesla T4 (UUID: GPU-7a836acb-d67c-7a78-86e5-bef2f5eedd81)\n",
            "\n",
            "Done!\n"
          ],
          "name": "stdout"
        }
      ]
    },
    {
      "cell_type": "code",
      "metadata": {
        "id": "DtHHC6I0lVXC"
      },
      "source": [
        "multilang = False #param {type:\"boolean\"}\n",
        "translate = False #param {type:\"boolean\"}\n",
        "#uploaded = files.upload()"
      ],
      "execution_count": 1,
      "outputs": []
    },
    {
      "cell_type": "code",
      "metadata": {
        "colab": {
          "resources": {
            "http://localhost:8080/nbextensions/google.colab/files.js": {
              "data": "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",
              "ok": true,
              "headers": [
                [
                  "content-type",
                  "application/javascript"
                ]
              ],
              "status": 200,
              "status_text": ""
            }
          },
          "base_uri": "https://localhost:8080/",
          "height": 91
        },
        "id": "wOJcu5KNZ75_",
        "outputId": "a7123347-9ddc-4f43-bb3e-d11fc69aad91"
      },
      "source": [
        "import pandas as pd\n",
        "from google.colab import files \n",
        "import io\n",
        "!rm dreams.xlsx\n",
        "uploaded = files.upload()\n",
        "todolist = pd.read_excel(\"dreams2.xlsx\")"
      ],
      "execution_count": 2,
      "outputs": [
        {
          "output_type": "stream",
          "text": [
            "rm: cannot remove 'dreams.xlsx': No such file or directory\n"
          ],
          "name": "stdout"
        },
        {
          "output_type": "display_data",
          "data": {
            "text/html": [
              "\n",
              "     <input type=\"file\" id=\"files-6ef2da41-c36b-49c4-807f-243ddec6e5ef\" name=\"files[]\" multiple disabled\n",
              "        style=\"border:none\" />\n",
              "     <output id=\"result-6ef2da41-c36b-49c4-807f-243ddec6e5ef\">\n",
              "      Upload widget is only available when the cell has been executed in the\n",
              "      current browser session. Please rerun this cell to enable.\n",
              "      </output>\n",
              "      <script src=\"/nbextensions/google.colab/files.js\"></script> "
            ],
            "text/plain": [
              "<IPython.core.display.HTML object>"
            ]
          },
          "metadata": {
            "tags": []
          }
        },
        {
          "output_type": "stream",
          "text": [
            "Saving dreams2.xlsx to dreams2.xlsx\n"
          ],
          "name": "stdout"
        }
      ]
    },
    {
      "cell_type": "code",
      "metadata": {
        "colab": {
          "base_uri": "https://localhost:8080/"
        },
        "id": "XVp9vqPblmQD",
        "outputId": "39e59d57-07ff-4a1a-dea3-2dba56fd6d34"
      },
      "source": [
        "for k in range(len(todolist)) :\n",
        "  try : \n",
        "    sideX = 1280\n",
        "    sideY = 720 \n",
        "    duration =  todolist[\"DURATION\"][k]\n",
        "\n",
        "    #markdown > Config\n",
        "    model = todolist[\"MODEL\"][k] #'ViT-B/32' #param ['ViT-B/32', 'RN101', 'RN50x4', 'RN50']\n",
        "    overscan = False\n",
        "    keep = todolist[\"KEEP\"][k]\n",
        "    noise_scale = todolist[\"NOISE\"][k]\n",
        "    contrast = todolist[\"CONTRAST\"][k]\n",
        "    #markdown > Training\n",
        "    steps = todolist[\"STEPS\"][k] \n",
        "    samples = todolist[\"SAMPLES\"][k]\n",
        "    learning_rate = todolist[\"LEARNING RATE\"][k]\n",
        "    show_freq = todolist[\"FREQUENCY\"][k]\n",
        "    #markdown > Tricks\n",
        "    diverse = todolist[\"DIVERSE\"][k]\n",
        "    expand = todolist[\"EXPAND\"][k] \n",
        "    progressive_grow = todolist[\"PROGRESSIVE GROW\"][k]\n",
        "    fps = 25\n",
        "    if multilang: model = 'ViT-B/32' # sbert model is trained with ViT\n",
        "\n",
        "    model_clip, _ = clip.load(model)\n",
        "    modsize = 288 if model == 'RN50x4' else 224\n",
        "    xmem = {'RN50':0.5, 'RN50x4':0.16, 'RN101':0.33}\n",
        "    if 'RN' in model:\n",
        "      samples = int(samples * xmem[model])\n",
        "\n",
        "    if diverse != 0:\n",
        "      samples = int(samples * 0.5)\n",
        "            \n",
        "    norm_in = torchvision.transforms.Normalize((0.48145466, 0.4578275, 0.40821073), (0.26862954, 0.26130258, 0.27577711))\n",
        "\n",
        "    text_file = todolist[\"TEST\"][k]\n",
        "\n",
        "    texts = texts = todolist[\"TEXT\"][k].split('\\n')\n",
        "    texts = [tt.strip() for tt in texts if len(tt.strip())>0 and tt[0] != '#']\n",
        "    print(' text file:', text_file)\n",
        "\n",
        "    workdir = os.path.join(work_dir, basename(text_file))\n",
        "    workdir += '-%s' % model if 'RN' in model.upper() else ''\n",
        "    !rm -rf $workdir\n",
        "    os.makedirs(workdir, exist_ok=True)\n",
        "\n",
        "    outpic = ipy.Output()\n",
        "    outpic\n",
        "      \n",
        "    # make init\n",
        "    global params_start, params_ema\n",
        "    params_shape = [1, 3, sideY, sideX//2+1, 2]\n",
        "    params_start = torch.randn(*params_shape).cuda() # random init\n",
        "    params_ema = 0.\n",
        "\n",
        "    if resume is True:\n",
        "      # print(' resuming from', resumed)\n",
        "      params, _ = fft_image([1, 3, sideY, sideX], resume = params_pt, sd=1.)\n",
        "      if keep > 0:\n",
        "        params_ema = params[0].detach()\n",
        "      torch.save(params_pt, os.path.join(workdir, '000-start.pt'))\n",
        "    else:\n",
        "      torch.save(params_start, os.path.join(workdir, '000-start.pt'))\n",
        "\n",
        "    torch.save(params_start, 'init.pt') # final init\n",
        "\n",
        "    prev_enc = 0\n",
        "    def process(txt, num):\n",
        "\n",
        "      global params_start\n",
        "      sd = 0.01\n",
        "      if keep > 0: sd = keep + (1-keep) * sd\n",
        "      params, image_f = fft_image([1, 3, sideY, sideX], resume='init.pt', sd=sd)\n",
        "      image_f = to_valid_rgb(image_f)\n",
        "      \n",
        "      if progressive_grow is True:\n",
        "        lr1 = learning_rate * 2\n",
        "        lr0 = lr1 * 0.01\n",
        "      else:\n",
        "        lr0 = learning_rate\n",
        "      optimizer = torch.optim.Adam(params, lr0)\n",
        "        \n",
        "      print(' ref text: ', txt)\n",
        "      if translate:\n",
        "        translator = Translator()\n",
        "        txt = translator.translate(txt, dest='en').text\n",
        "        print(' translated to:', txt)\n",
        "      if multilang:\n",
        "          model_lang = SentenceTransformer('clip-ViT-B-32-multilingual-v1').cuda()\n",
        "          txt_enc = model_lang.encode([txt], convert_to_tensor=True, show_progress_bar=False).detach().clone()\n",
        "          del model_lang\n",
        "      else:\n",
        "          txt_enc = model_clip.encode_text(clip.tokenize(txt).cuda()).detach().clone()\n",
        "\n",
        "      out_name = '%03d-%s' % (num+1, txt.translate(str.maketrans(dict.fromkeys(list(\"\\n',—|!?/:;\\\\\"), \"\"))).replace(' ', '_').replace('\"', ''))\n",
        "      tempdir = os.path.join(workdir, out_name)\n",
        "      !rm -rf $tempdir\n",
        "      os.makedirs(tempdir, exist_ok=True)\n",
        "\n",
        "      pbar = ProgressBar(steps) #  // save_freq\n",
        "      for i in range(steps):\n",
        "        loss = 0\n",
        "        \n",
        "        noise = noise_scale * torch.randn(1, 1, *params[0].shape[2:4], 1).cuda() if noise_scale > 0 else 0.\n",
        "        img_out = image_f(noise)\n",
        "\n",
        "        imgs_sliced = slice_imgs([img_out], samples, modsize, norm_in, overscan=overscan, micro=None)\n",
        "        out_enc = model_clip.encode_image(imgs_sliced[-1])\n",
        "        loss -= torch.cosine_similarity(txt_enc, out_enc, dim=-1).mean()\n",
        "        if diverse != 0:\n",
        "          imgs_sliced = slice_imgs([image_f(noise)], samples, modsize, norm_in, overscan=overscan, micro=None)\n",
        "          out_enc2 = model_clip.encode_image(imgs_sliced[-1])\n",
        "          loss += diverse * torch.cosine_similarity(out_enc, out_enc2, dim=-1).mean()\n",
        "          del out_enc2; torch.cuda.empty_cache()\n",
        "        if expand > 0:\n",
        "          global prev_enc\n",
        "          if i > 0:\n",
        "            loss += expand * torch.cosine_similarity(out_enc, prev_enc, dim=-1).mean()\n",
        "          prev_enc = out_enc.detach()\n",
        "        del img_out, imgs_sliced, out_enc; torch.cuda.empty_cache()\n",
        "\n",
        "        if progressive_grow is True:\n",
        "          lr_cur = lr0 + (i / steps) * (lr1 - lr0)\n",
        "          for g in optimizer.param_groups: \n",
        "            g['lr'] = lr_cur\n",
        "\n",
        "        optimizer.zero_grad()\n",
        "        loss.backward()\n",
        "        optimizer.step()\n",
        "        \n",
        "        if i % show_freq == 0:\n",
        "          with torch.no_grad():\n",
        "            img = image_f(contrast=contrast).cpu().numpy()[0]\n",
        "          save_img(img, os.path.join(tempdir, '%05d.jpg' % (i // show_freq)))\n",
        "          outpic.clear_output()\n",
        "          with outpic:\n",
        "            display(Image('result.jpg'))\n",
        "          del img\n",
        "\n",
        "        pbar.upd()\n",
        "\n",
        "      if keep > 0:\n",
        "        global params_start, params_ema\n",
        "        params_ema = ema(params_ema, params[0].detach(), num+1)\n",
        "        torch.save((1-keep) * params_start + keep * params_ema, 'init.pt')\n",
        "\n",
        "      torch.save(params[0], '%s.pt' % os.path.join(workdir, out_name))\n",
        "\n",
        "    for i, txt in enumerate(texts):\n",
        "        process(txt, i)\n",
        "\n",
        "    vsteps = int(duration * fps / len(texts))\n",
        "    tempdir = os.path.join(workdir, '_final')\n",
        "    !rm -rf $tempdir\n",
        "    os.makedirs(tempdir, exist_ok=True)\n",
        "  except : print ('Failure : ' + todolist[\"TEST\"][k])\n"
      ],
      "execution_count": 3,
      "outputs": [
        {
          "output_type": "stream",
          "text": [
            "Failure : monkey_1\n",
            "Failure : monkey_2\n",
            "Failure : monkey_3\n",
            "Failure : monkey_4\n",
            "Failure : monkey_5\n",
            "Failure : monkey_6\n",
            "Failure : monkey_7\n",
            "Failure : monkey_8\n",
            "Failure : monkey_9\n",
            "Failure : monkey_10\n",
            "Failure : monkey_11\n",
            "Failure : monkey_12\n",
            "Failure : monkey_13\n",
            "Failure : monkey_14\n",
            "Failure : monkey_15\n",
            "Failure : monkey_16\n",
            "Failure : monkey_17\n",
            "Failure : monkey_18\n",
            "Failure : monkey_19\n",
            "Failure : view_20\n",
            "Failure : view_21\n",
            "Failure : view_22\n",
            "Failure : view_23\n",
            "Failure : view_24\n",
            "Failure : view_25\n",
            "Failure : view_26\n",
            "Failure : view_27\n",
            "Failure : view_28\n",
            "Failure : view_29\n",
            "Failure : view_30\n",
            "Failure : view_31\n",
            "Failure : view_32\n",
            "Failure : view_33\n",
            "Failure : view_34\n",
            "Failure : view_35\n",
            "Failure : view_36\n",
            "Failure : view_37\n",
            "Failure : view_38\n",
            "Failure : view_39\n",
            "Failure : view_40\n",
            "Failure : view_41\n",
            "Failure : view_42\n",
            "Failure : view_43\n",
            "Failure : view_44\n",
            "Failure : view_45\n",
            "Failure : view_46\n",
            "Failure : view_47\n",
            "Failure : view_48\n",
            "Failure : view_49\n",
            "Failure : view_50\n",
            "Failure : view_51\n",
            "Failure : view_52\n",
            "Failure : view_53\n",
            "Failure : view_54\n",
            "Failure : view_55\n",
            "Failure : view_56\n",
            "Failure : view_57\n",
            "Failure : view_58\n",
            "Failure : view_59\n",
            "Failure : view_60\n",
            "Failure : view_61\n",
            "Failure : view_62\n",
            "Failure : view_63\n",
            "Failure : view_64\n",
            "Failure : view_65\n",
            "Failure : view_66\n",
            "Failure : view_67\n",
            "Failure : view_68\n",
            "Failure : view_69\n",
            "Failure : view_70\n",
            "Failure : view_71\n",
            "Failure : view_72\n",
            "Failure : view_73\n",
            "Failure : view_74\n",
            "Failure : view_75\n",
            "Failure : view_76\n",
            "Failure : view_77\n",
            "Failure : view_78\n",
            "Failure : view_79\n",
            "Failure : view_80\n",
            "Failure : view_81\n",
            "Failure : view_82\n",
            "Failure : view_83\n",
            "Failure : view_84\n",
            "Failure : view_85\n",
            "Failure : view_86\n",
            "Failure : view_87\n",
            "Failure : view_88\n",
            "Failure : view_89\n",
            "Failure : view_90\n",
            "Failure : view_91\n"
          ],
          "name": "stdout"
        }
      ]
    },
    {
      "cell_type": "code",
      "metadata": {
        "colab": {
          "base_uri": "https://localhost:8080/"
        },
        "id": "nEkgohJym1zJ",
        "outputId": "cbb96d7b-3fc8-443a-b59c-7eca73b5eca8"
      },
      "source": [
        "print(workdir)"
      ],
      "execution_count": 83,
      "outputs": [
        {
          "output_type": "stream",
          "text": [
            "/G/MyDrive/illustra/monkey_1\n"
          ],
          "name": "stdout"
        }
      ]
    },
    {
      "cell_type": "code",
      "metadata": {
        "id": "OWXyIworo-R1"
      },
      "source": [
        "!rm workdir"
      ],
      "execution_count": null,
      "outputs": []
    },
    {
      "cell_type": "code",
      "metadata": {
        "colab": {
          "base_uri": "https://localhost:8080/",
          "height": 34
        },
        "id": "7nNF40OopBiD",
        "outputId": "cdd81874-f6d5-4d02-d444-bba996e51abc"
      },
      "source": [
        "images = glob.glob(workdir + '/')\n",
        "for image in images : \n",
        "  print(image)\n",
        "  files.download(image)"
      ],
      "execution_count": 89,
      "outputs": [
        {
          "output_type": "stream",
          "text": [
            "/G/MyDrive/illustra/monkey_1/\n"
          ],
          "name": "stdout"
        },
        {
          "output_type": "display_data",
          "data": {
            "application/javascript": [
              "\n",
              "    async function download(id, filename, size) {\n",
              "      if (!google.colab.kernel.accessAllowed) {\n",
              "        return;\n",
              "      }\n",
              "      const div = document.createElement('div');\n",
              "      const label = document.createElement('label');\n",
              "      label.textContent = `Downloading \"${filename}\": `;\n",
              "      div.appendChild(label);\n",
              "      const progress = document.createElement('progress');\n",
              "      progress.max = size;\n",
              "      div.appendChild(progress);\n",
              "      document.body.appendChild(div);\n",
              "\n",
              "      const buffers = [];\n",
              "      let downloaded = 0;\n",
              "\n",
              "      const channel = await google.colab.kernel.comms.open(id);\n",
              "      // Send a message to notify the kernel that we're ready.\n",
              "      channel.send({})\n",
              "\n",
              "      for await (const message of channel.messages) {\n",
              "        // Send a message to notify the kernel that we're ready.\n",
              "        channel.send({})\n",
              "        if (message.buffers) {\n",
              "          for (const buffer of message.buffers) {\n",
              "            buffers.push(buffer);\n",
              "            downloaded += buffer.byteLength;\n",
              "            progress.value = downloaded;\n",
              "          }\n",
              "        }\n",
              "      }\n",
              "      const blob = new Blob(buffers, {type: 'application/binary'});\n",
              "      const a = document.createElement('a');\n",
              "      a.href = window.URL.createObjectURL(blob);\n",
              "      a.download = filename;\n",
              "      div.appendChild(a);\n",
              "      a.click();\n",
              "      div.remove();\n",
              "    }\n",
              "  "
            ],
            "text/plain": [
              "<IPython.core.display.Javascript object>"
            ]
          },
          "metadata": {
            "tags": []
          }
        },
        {
          "output_type": "display_data",
          "data": {
            "application/javascript": [
              "download(\"download_d2191a9b-2720-4657-9b67-9684c5593028\", \"\", 4096)"
            ],
            "text/plain": [
              "<IPython.core.display.Javascript object>"
            ]
          },
          "metadata": {
            "tags": []
          }
        }
      ]
    },
    {
      "cell_type": "code",
      "metadata": {
        "id": "sdmSneCxpLwZ"
      },
      "source": [
        ""
      ],
      "execution_count": null,
      "outputs": []
    }
  ]
}